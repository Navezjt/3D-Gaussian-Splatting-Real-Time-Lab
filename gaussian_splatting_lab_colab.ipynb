{
  "cells": [
    {
      "cell_type": "markdown",
      "metadata": {
        "id": "view-in-github",
        "colab_type": "text"
      },
      "source": [
        "<a href=\"https://colab.research.google.com/github/std3rr/3D-Gaussian-Splatting-Real-Time-Lab/blob/main/gaussian_splatting_lab_colab.ipynb\" target=\"_parent\"><img src=\"https://colab.research.google.com/assets/colab-badge.svg\" alt=\"Open In Colab\"/></a>"
      ]
    },
    {
      "cell_type": "markdown",
      "metadata": {
        "id": "hdTdywQDkAtX"
      },
      "source": [
        "# 3D Gaussian splatting\n",
        "https://repo-sam.inria.fr/fungraph/3d-gaussian-splatting/\n",
        "\n",
        "This notebook is composed by Andreas Lewitzki.\n",
        "\n",
        "I made this to experiment with processing video of coice, convert structure from motion and build a model for export to local computer for viewing.\n",
        "As some packages and tools are compiled for CUDA support and from scratch it will take some time to bootstrap. (~35min)\n",
        "\n",
        "Ofcourse you could take this and build a container image and deploy precompiled elsewhere.\n",
        "\n",
        "In my lab I recorded 30s 4k video 30fps with my phone and uploaded directly to google drive.\n",
        "\n",
        "I used a A100 instance for my initial lab.\n",
        "It took about 4m30s for the colmap processing the 111 images (extracted @4fps) and generated roughly 20K points.\n",
        "\n",
        "In this case the training did consume around up to almost 40G vram, but it would probably have worked running on a cheaper T4 instance if scaled down and cap after 7000 iterations. Training on A100 gave around 7.5 iterations/s while a T4 topped around 2.3 it/s. I opted for full resolution in this case, default is to scale down.\n",
        "\n",
        "Training took 1h10m in this case.\n",
        "\n"
      ]
    },
    {
      "cell_type": "markdown",
      "source": [
        "#Install requirements and clone graphdecos gaussian-splatting project"
      ],
      "metadata": {
        "id": "8CUVZY6cb8gj"
      }
    },
    {
      "cell_type": "markdown",
      "metadata": {
        "id": "UFOcEkwIjUP_"
      },
      "source": [
        "Required dev environment for ceres-resolver and colmap"
      ]
    },
    {
      "cell_type": "code",
      "execution_count": null,
      "metadata": {
        "id": "W-CxqfwgMe6B"
      },
      "outputs": [],
      "source": [
        "\n",
        "!sudo apt-get install \\\n",
        "    git \\\n",
        "    cmake \\\n",
        "    build-essential \\\n",
        "    libboost-program-options-dev \\\n",
        "    libboost-filesystem-dev \\\n",
        "    libboost-graph-dev \\\n",
        "    libboost-regex-dev \\\n",
        "    libboost-system-dev \\\n",
        "    libboost-test-dev \\\n",
        "    libeigen3-dev \\\n",
        "    libsuitesparse-dev \\\n",
        "    libfreeimage-dev \\\n",
        "    libgoogle-glog-dev \\\n",
        "    libgflags-dev \\\n",
        "    libglew-dev \\\n",
        "    qtbase5-dev \\\n",
        "    libqt5opengl5-dev \\\n",
        "    libcgal-dev \\\n",
        "    libcgal-qt5-dev \\\n",
        "    libmetis-dev \\\n",
        "    libflann-dev \\\n",
        "    libatlas-base-dev \\\n",
        "    libsuitesparse-dev\n"
      ]
    },
    {
      "cell_type": "markdown",
      "metadata": {
        "id": "2HOpdEdHjazH"
      },
      "source": [
        " Ceres Solver 1 is an open source C++ library for modeling and solving large, complicated optimization problems. It can be used to solve Non-linear Least Squares problems with bounds constraints and general unconstrained optimization problems."
      ]
    },
    {
      "cell_type": "code",
      "execution_count": null,
      "metadata": {
        "colab": {
          "background_save": true
        },
        "id": "nXe1i6WwTgPK"
      },
      "outputs": [],
      "source": [
        "\n",
        "!git clone https://ceres-solver.googlesource.com/ceres-solver\n",
        "%cd ceres-solver\n",
        "!git checkout $(git describe --tags) # Checkout the latest release\n",
        "%mkdir build\n",
        "%cd build\n",
        "!cmake .. -DBUILD_TESTING=OFF -DBUILD_EXAMPLES=OFF -DCMAKE_CUDA_ARCHITECTURES=native\n",
        "!make\n",
        "!sudo make install"
      ]
    },
    {
      "cell_type": "markdown",
      "metadata": {
        "id": "3ZQ7kn_gjnSG"
      },
      "source": [
        "COLMAP is a general-purpose Structure-from-Motion (SfM) and Multi-View Stereo (MVS) pipeline with a graphical and command-line interface. It offers a wide range of features for reconstruction of ordered and unordered image collections."
      ]
    },
    {
      "cell_type": "code",
      "execution_count": null,
      "metadata": {
        "id": "pIdR-TWDRdUu"
      },
      "outputs": [],
      "source": [
        "%cd ..\n",
        "!git clone https://github.com/colmap/colmap\n",
        "%cd colmap\n",
        "!git checkout dev\n",
        "%mkdir build\n",
        "%cd build\n",
        "!cmake .. -DCMAKE_CUDA_ARCHITECTURES=native\n",
        "!make\n",
        "!sudo make install\n",
        "!CC=/usr/bin/gcc-6 CXX=/usr/bin/g++-6 cmake .."
      ]
    },
    {
      "cell_type": "markdown",
      "metadata": {
        "id": "ZWCpx1wJk70X"
      },
      "source": [
        "clone graphdecos gaussian-splatting repo"
      ]
    },
    {
      "cell_type": "code",
      "execution_count": null,
      "metadata": {
        "id": "VjYy0F2gZIPR"
      },
      "outputs": [],
      "source": [
        "%cd /content\n",
        "!git clone --recursive https://github.com/graphdeco-inria/gaussian-splatting\n",
        "!pip install -q plyfile\n",
        "\n",
        "# borrow some precompiled python libs from camenduru\n",
        "%cd /content/gaussian-splatting\n",
        "!pip install -q https://huggingface.co/camenduru/gaussian-splatting/resolve/main/diff_gaussian_rasterization-0.0.0-cp310-cp310-linux_x86_64.whl\n",
        "!pip install -q https://huggingface.co/camenduru/gaussian-splatting/resolve/main/simple_knn-0.0.0-cp310-cp310-linux_x86_64.whl\n",
        "\n"
      ]
    },
    {
      "cell_type": "markdown",
      "source": [
        "# Setup project\n",
        "Mount google drive and grab your video file and splitt up depending on fps. So if you've recorded @ 30fps the output will be a png image representing every 15th frame."
      ],
      "metadata": {
        "id": "vB84ua1vQwnh"
      }
    },
    {
      "cell_type": "code",
      "source": [
        "from google.colab import drive\n",
        "drive.mount('/content/gdrive')"
      ],
      "metadata": {
        "id": "qtNdsoK6ahr_"
      },
      "execution_count": null,
      "outputs": []
    },
    {
      "cell_type": "code",
      "execution_count": null,
      "metadata": {
        "id": "hzJQ_zA-HfPZ"
      },
      "outputs": [],
      "source": [
        "project_name = 'my3dgsproject1' # @param {type:\"string\"}\n",
        "video_file = '/content/gdrive/MyDrive/test.MOV' # @param {type:\"string\"}\n",
        "fps = 2 # @param {type:\"slider\", min:0, max:15, step:0.25}\n",
        "\n",
        "!mkdir -p /content/{project_name}/input\n",
        "!ffmpeg -i {video_file} -qscale:v 1 -qmin 1 -vf fps={fps} /content/{project_name}/input/%04d.jpg"
      ]
    },
    {
      "cell_type": "markdown",
      "source": [
        "# Process images and train model\n",
        "This is essentially a wrapper over colmap feature extract, matcher, mapper and undistorter. <br>\n",
        "After this we train model and upload to gdrive."
      ],
      "metadata": {
        "id": "u51od7o0SV_Z"
      }
    },
    {
      "cell_type": "code",
      "execution_count": null,
      "metadata": {
        "id": "T-pAQ8rlIIlp"
      },
      "outputs": [],
      "source": [
        "%cd /content/gaussian-splatting\n",
        "!python convert.py -s /content/{project_name}/"
      ]
    },
    {
      "cell_type": "markdown",
      "source": [
        "Train the model.\n",
        "<b>-r 1</b> here means no resizing."
      ],
      "metadata": {
        "id": "d_gNDnQmUJ9P"
      }
    },
    {
      "cell_type": "code",
      "execution_count": null,
      "metadata": {
        "id": "E9fKaDncpKkD"
      },
      "outputs": [],
      "source": [
        "!python train.py -s /content/{project_name} -r 1 --model_path=./output/{project_name}\n",
        "!cp -R /content/{project_name} /content/gdrive/MyDrive/"
      ]
    },
    {
      "cell_type": "markdown",
      "source": [
        "# Now what?!\n",
        "If you would like to just test the model localy, in my case windows, you may want to download:<br>\n",
        "https://huggingface.co/camenduru/gaussian-splatting/resolve/main/GaussianViewTest.zip\n",
        "<br><br>\n",
        "If you have your google drive mounted in windows just unzip gaussianview then run something like:<br>\n",
        "<i>GaussianViewTest\\viewers\\bin> .\\SIBR_gaussianViewer_app.exe --model-path \"gdrive\\example\\project_name\"</i>\n",
        "\n",
        "<br><br>\n",
        "Bellow stuff is just for reference and optional."
      ],
      "metadata": {
        "id": "GBFQzch1VmaA"
      }
    },
    {
      "cell_type": "code",
      "execution_count": null,
      "metadata": {
        "id": "mX6ZrfEfrnLz"
      },
      "outputs": [],
      "source": [
        "!python render.py -m /content/gaussian-splatting/output/{project_name}"
      ]
    },
    {
      "cell_type": "code",
      "execution_count": null,
      "metadata": {
        "id": "qt0ecj7DUeaw"
      },
      "outputs": [],
      "source": [
        "!ffmpeg -framerate 3 -i /content/gaussian-splatting/output/{project_name}/train/ours_30000/renders/%05d.png -vf \"pad=ceil(iw/2)*2:ceil(ih/2)*2\" -c:v libx264 -r 3 -pix_fmt yuv420p /renders.mp4\n",
        "!ffmpeg -framerate 3 -i /content/gaussian-splatting/output/{project_name}/train/ours_30000/gt/%05d.png -vf \"pad=ceil(iw/2)*2:ceil(ih/2)*2\" -c:v libx264 -r 3 -pix_fmt yuv420p /gt.mp4 -y"
      ]
    },
    {
      "cell_type": "code",
      "execution_count": null,
      "metadata": {
        "id": "OQr-DNcUGW-y"
      },
      "outputs": [],
      "source": [
        "!wget https://huggingface.co/camenduru/gaussian-splatting/resolve/main/tandt_db.zip\n",
        "!unzip tandt_db.zip\n",
        "\n",
        "!python train.py -s /content/gaussian-splatting/tandt/train"
      ]
    },
    {
      "cell_type": "code",
      "execution_count": null,
      "metadata": {
        "id": "iT5LE1ze_J6h"
      },
      "outputs": [],
      "source": [
        "!wget https://huggingface.co/camenduru/gaussian-splatting/resolve/main/GaussianViewTest.zip\n",
        "!unzip GaussianViewTest.zip\n",
        "\n"
      ]
    }
  ],
  "metadata": {
    "accelerator": "GPU",
    "colab": {
      "machine_shape": "hm",
      "provenance": [],
      "include_colab_link": true
    },
    "kernelspec": {
      "display_name": "Python 3",
      "name": "python3"
    },
    "language_info": {
      "name": "python"
    }
  },
  "nbformat": 4,
  "nbformat_minor": 0
}